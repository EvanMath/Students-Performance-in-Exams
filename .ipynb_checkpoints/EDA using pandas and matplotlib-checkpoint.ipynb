{
 "cells": [
  {
   "cell_type": "markdown",
   "metadata": {},
   "source": [
    "Overview\n",
    "--\n",
    "\n",
    "This data set includes scores from three exams and a variety of personal, social, and economic factors that have interaction effects upon them"
   ]
  },
  {
   "cell_type": "markdown",
   "metadata": {},
   "source": [
    "**Research Questions**\n",
    "\n",
    "------------\n",
    "\n",
    "- How helpfull is the test preparation course?\n",
    "- Which major factors contribute to test outcomes?\n",
    "- Beyond preparation test what are the secondary feature that could affect the final score?"
   ]
  },
  {
   "cell_type": "code",
   "execution_count": 41,
   "metadata": {},
   "outputs": [],
   "source": [
    "# import libraries we need for EDA\n",
    "%matplotlib inline\n",
    "\n",
    "import numpy as np\n",
    "import pandas as pd\n",
    "import matplotlib.pyplot as plt\n",
    "import seaborn as sns\n",
    "\n",
    "import statsmodels.api as sm\n",
    "from sklearn.linear_model import LinearRegression\n",
    "from sklearn.model_selection import train_test_split\n",
    "from sklearn.base import BaseEstimator, RegressorMixin\n",
    "from sklearn import metrics"
   ]
  },
  {
   "cell_type": "code",
   "execution_count": 2,
   "metadata": {},
   "outputs": [],
   "source": [
    "# importing our file\n",
    "students_df = pd.read_csv('StudentsPerformance.csv')"
   ]
  },
  {
   "cell_type": "code",
   "execution_count": 3,
   "metadata": {},
   "outputs": [
    {
     "data": {
      "text/html": [
       "<div>\n",
       "<style scoped>\n",
       "    .dataframe tbody tr th:only-of-type {\n",
       "        vertical-align: middle;\n",
       "    }\n",
       "\n",
       "    .dataframe tbody tr th {\n",
       "        vertical-align: top;\n",
       "    }\n",
       "\n",
       "    .dataframe thead th {\n",
       "        text-align: right;\n",
       "    }\n",
       "</style>\n",
       "<table border=\"1\" class=\"dataframe\">\n",
       "  <thead>\n",
       "    <tr style=\"text-align: right;\">\n",
       "      <th></th>\n",
       "      <th>gender</th>\n",
       "      <th>race/ethnicity</th>\n",
       "      <th>parental level of education</th>\n",
       "      <th>lunch</th>\n",
       "      <th>test preparation course</th>\n",
       "      <th>math score</th>\n",
       "      <th>reading score</th>\n",
       "      <th>writing score</th>\n",
       "    </tr>\n",
       "  </thead>\n",
       "  <tbody>\n",
       "    <tr>\n",
       "      <th>0</th>\n",
       "      <td>female</td>\n",
       "      <td>group B</td>\n",
       "      <td>bachelor's degree</td>\n",
       "      <td>standard</td>\n",
       "      <td>none</td>\n",
       "      <td>72</td>\n",
       "      <td>72</td>\n",
       "      <td>74</td>\n",
       "    </tr>\n",
       "    <tr>\n",
       "      <th>1</th>\n",
       "      <td>female</td>\n",
       "      <td>group C</td>\n",
       "      <td>some college</td>\n",
       "      <td>standard</td>\n",
       "      <td>completed</td>\n",
       "      <td>69</td>\n",
       "      <td>90</td>\n",
       "      <td>88</td>\n",
       "    </tr>\n",
       "    <tr>\n",
       "      <th>2</th>\n",
       "      <td>female</td>\n",
       "      <td>group B</td>\n",
       "      <td>master's degree</td>\n",
       "      <td>standard</td>\n",
       "      <td>none</td>\n",
       "      <td>90</td>\n",
       "      <td>95</td>\n",
       "      <td>93</td>\n",
       "    </tr>\n",
       "    <tr>\n",
       "      <th>3</th>\n",
       "      <td>male</td>\n",
       "      <td>group A</td>\n",
       "      <td>associate's degree</td>\n",
       "      <td>free/reduced</td>\n",
       "      <td>none</td>\n",
       "      <td>47</td>\n",
       "      <td>57</td>\n",
       "      <td>44</td>\n",
       "    </tr>\n",
       "    <tr>\n",
       "      <th>4</th>\n",
       "      <td>male</td>\n",
       "      <td>group C</td>\n",
       "      <td>some college</td>\n",
       "      <td>standard</td>\n",
       "      <td>none</td>\n",
       "      <td>76</td>\n",
       "      <td>78</td>\n",
       "      <td>75</td>\n",
       "    </tr>\n",
       "  </tbody>\n",
       "</table>\n",
       "</div>"
      ],
      "text/plain": [
       "   gender race/ethnicity parental level of education         lunch  \\\n",
       "0  female        group B           bachelor's degree      standard   \n",
       "1  female        group C                some college      standard   \n",
       "2  female        group B             master's degree      standard   \n",
       "3    male        group A          associate's degree  free/reduced   \n",
       "4    male        group C                some college      standard   \n",
       "\n",
       "  test preparation course  math score  reading score  writing score  \n",
       "0                    none          72             72             74  \n",
       "1               completed          69             90             88  \n",
       "2                    none          90             95             93  \n",
       "3                    none          47             57             44  \n",
       "4                    none          76             78             75  "
      ]
     },
     "execution_count": 3,
     "metadata": {},
     "output_type": "execute_result"
    }
   ],
   "source": [
    "# Look at the top 5 rows, uncomment the line below to run the code\n",
    "students_df.head()"
   ]
  },
  {
   "cell_type": "code",
   "execution_count": 4,
   "metadata": {},
   "outputs": [
    {
     "data": {
      "text/html": [
       "<div>\n",
       "<style scoped>\n",
       "    .dataframe tbody tr th:only-of-type {\n",
       "        vertical-align: middle;\n",
       "    }\n",
       "\n",
       "    .dataframe tbody tr th {\n",
       "        vertical-align: top;\n",
       "    }\n",
       "\n",
       "    .dataframe thead th {\n",
       "        text-align: right;\n",
       "    }\n",
       "</style>\n",
       "<table border=\"1\" class=\"dataframe\">\n",
       "  <thead>\n",
       "    <tr style=\"text-align: right;\">\n",
       "      <th></th>\n",
       "      <th>gender</th>\n",
       "      <th>race/ethnicity</th>\n",
       "      <th>parental level of education</th>\n",
       "      <th>lunch</th>\n",
       "      <th>test preparation course</th>\n",
       "      <th>math score</th>\n",
       "      <th>reading score</th>\n",
       "      <th>writing score</th>\n",
       "    </tr>\n",
       "  </thead>\n",
       "  <tbody>\n",
       "    <tr>\n",
       "      <th>995</th>\n",
       "      <td>female</td>\n",
       "      <td>group E</td>\n",
       "      <td>master's degree</td>\n",
       "      <td>standard</td>\n",
       "      <td>completed</td>\n",
       "      <td>88</td>\n",
       "      <td>99</td>\n",
       "      <td>95</td>\n",
       "    </tr>\n",
       "    <tr>\n",
       "      <th>996</th>\n",
       "      <td>male</td>\n",
       "      <td>group C</td>\n",
       "      <td>high school</td>\n",
       "      <td>free/reduced</td>\n",
       "      <td>none</td>\n",
       "      <td>62</td>\n",
       "      <td>55</td>\n",
       "      <td>55</td>\n",
       "    </tr>\n",
       "    <tr>\n",
       "      <th>997</th>\n",
       "      <td>female</td>\n",
       "      <td>group C</td>\n",
       "      <td>high school</td>\n",
       "      <td>free/reduced</td>\n",
       "      <td>completed</td>\n",
       "      <td>59</td>\n",
       "      <td>71</td>\n",
       "      <td>65</td>\n",
       "    </tr>\n",
       "    <tr>\n",
       "      <th>998</th>\n",
       "      <td>female</td>\n",
       "      <td>group D</td>\n",
       "      <td>some college</td>\n",
       "      <td>standard</td>\n",
       "      <td>completed</td>\n",
       "      <td>68</td>\n",
       "      <td>78</td>\n",
       "      <td>77</td>\n",
       "    </tr>\n",
       "    <tr>\n",
       "      <th>999</th>\n",
       "      <td>female</td>\n",
       "      <td>group D</td>\n",
       "      <td>some college</td>\n",
       "      <td>free/reduced</td>\n",
       "      <td>none</td>\n",
       "      <td>77</td>\n",
       "      <td>86</td>\n",
       "      <td>86</td>\n",
       "    </tr>\n",
       "  </tbody>\n",
       "</table>\n",
       "</div>"
      ],
      "text/plain": [
       "     gender race/ethnicity parental level of education         lunch  \\\n",
       "995  female        group E             master's degree      standard   \n",
       "996    male        group C                 high school  free/reduced   \n",
       "997  female        group C                 high school  free/reduced   \n",
       "998  female        group D                some college      standard   \n",
       "999  female        group D                some college  free/reduced   \n",
       "\n",
       "    test preparation course  math score  reading score  writing score  \n",
       "995               completed          88             99             95  \n",
       "996                    none          62             55             55  \n",
       "997               completed          59             71             65  \n",
       "998               completed          68             78             77  \n",
       "999                    none          77             86             86  "
      ]
     },
     "execution_count": 4,
     "metadata": {},
     "output_type": "execute_result"
    }
   ],
   "source": [
    "# Look at the last 5 rows, uncomment the line below to run the code\n",
    "students_df.tail()"
   ]
  },
  {
   "cell_type": "markdown",
   "metadata": {},
   "source": [
    "> This data set consists of the marks secured by the students in various subjects."
   ]
  },
  {
   "cell_type": "code",
   "execution_count": 5,
   "metadata": {},
   "outputs": [
    {
     "data": {
      "text/plain": [
       "Index(['gender', 'race/ethnicity', 'parental level of education', 'lunch',\n",
       "       'test preparation course', 'math score', 'reading score',\n",
       "       'writing score'],\n",
       "      dtype='object')"
      ]
     },
     "execution_count": 5,
     "metadata": {},
     "output_type": "execute_result"
    }
   ],
   "source": [
    "# Let's take a look on columns, shape and descriptive information of our data set\n",
    "# uncomment the line below to run the code\n",
    "students_df.columns"
   ]
  },
  {
   "cell_type": "code",
   "execution_count": 6,
   "metadata": {},
   "outputs": [
    {
     "data": {
      "text/plain": [
       "(1000, 8)"
      ]
     },
     "execution_count": 6,
     "metadata": {},
     "output_type": "execute_result"
    }
   ],
   "source": [
    "# Shape of our dataset\n",
    "# uncomment the line below to run the code\n",
    "students_df.shape"
   ]
  },
  {
   "cell_type": "code",
   "execution_count": 7,
   "metadata": {
    "scrolled": true
   },
   "outputs": [
    {
     "name": "stdout",
     "output_type": "stream",
     "text": [
      "<class 'pandas.core.frame.DataFrame'>\n",
      "RangeIndex: 1000 entries, 0 to 999\n",
      "Data columns (total 8 columns):\n",
      "gender                         1000 non-null object\n",
      "race/ethnicity                 1000 non-null object\n",
      "parental level of education    1000 non-null object\n",
      "lunch                          1000 non-null object\n",
      "test preparation course        1000 non-null object\n",
      "math score                     1000 non-null int64\n",
      "reading score                  1000 non-null int64\n",
      "writing score                  1000 non-null int64\n",
      "dtypes: int64(3), object(5)\n",
      "memory usage: 62.6+ KB\n"
     ]
    }
   ],
   "source": [
    "students_df.info()"
   ]
  },
  {
   "cell_type": "markdown",
   "metadata": {},
   "source": [
    ">As we can see our data set is very clean with no *Null values* and all columns are the correct type as we expected. There are 5 columns that contain categorical values and 3 of numeric (integers) values."
   ]
  },
  {
   "cell_type": "code",
   "execution_count": 8,
   "metadata": {},
   "outputs": [
    {
     "data": {
      "text/html": [
       "<div>\n",
       "<style scoped>\n",
       "    .dataframe tbody tr th:only-of-type {\n",
       "        vertical-align: middle;\n",
       "    }\n",
       "\n",
       "    .dataframe tbody tr th {\n",
       "        vertical-align: top;\n",
       "    }\n",
       "\n",
       "    .dataframe thead th {\n",
       "        text-align: right;\n",
       "    }\n",
       "</style>\n",
       "<table border=\"1\" class=\"dataframe\">\n",
       "  <thead>\n",
       "    <tr style=\"text-align: right;\">\n",
       "      <th></th>\n",
       "      <th>math score</th>\n",
       "      <th>reading score</th>\n",
       "      <th>writing score</th>\n",
       "    </tr>\n",
       "  </thead>\n",
       "  <tbody>\n",
       "    <tr>\n",
       "      <th>count</th>\n",
       "      <td>1000.00000</td>\n",
       "      <td>1000.000000</td>\n",
       "      <td>1000.000000</td>\n",
       "    </tr>\n",
       "    <tr>\n",
       "      <th>mean</th>\n",
       "      <td>66.08900</td>\n",
       "      <td>69.169000</td>\n",
       "      <td>68.054000</td>\n",
       "    </tr>\n",
       "    <tr>\n",
       "      <th>std</th>\n",
       "      <td>15.16308</td>\n",
       "      <td>14.600192</td>\n",
       "      <td>15.195657</td>\n",
       "    </tr>\n",
       "    <tr>\n",
       "      <th>min</th>\n",
       "      <td>0.00000</td>\n",
       "      <td>17.000000</td>\n",
       "      <td>10.000000</td>\n",
       "    </tr>\n",
       "    <tr>\n",
       "      <th>25%</th>\n",
       "      <td>57.00000</td>\n",
       "      <td>59.000000</td>\n",
       "      <td>57.750000</td>\n",
       "    </tr>\n",
       "    <tr>\n",
       "      <th>50%</th>\n",
       "      <td>66.00000</td>\n",
       "      <td>70.000000</td>\n",
       "      <td>69.000000</td>\n",
       "    </tr>\n",
       "    <tr>\n",
       "      <th>75%</th>\n",
       "      <td>77.00000</td>\n",
       "      <td>79.000000</td>\n",
       "      <td>79.000000</td>\n",
       "    </tr>\n",
       "    <tr>\n",
       "      <th>max</th>\n",
       "      <td>100.00000</td>\n",
       "      <td>100.000000</td>\n",
       "      <td>100.000000</td>\n",
       "    </tr>\n",
       "  </tbody>\n",
       "</table>\n",
       "</div>"
      ],
      "text/plain": [
       "       math score  reading score  writing score\n",
       "count  1000.00000    1000.000000    1000.000000\n",
       "mean     66.08900      69.169000      68.054000\n",
       "std      15.16308      14.600192      15.195657\n",
       "min       0.00000      17.000000      10.000000\n",
       "25%      57.00000      59.000000      57.750000\n",
       "50%      66.00000      70.000000      69.000000\n",
       "75%      77.00000      79.000000      79.000000\n",
       "max     100.00000     100.000000     100.000000"
      ]
     },
     "execution_count": 8,
     "metadata": {},
     "output_type": "execute_result"
    }
   ],
   "source": [
    "# Summary statistics of our numeric columns of entire dataset\n",
    "students_df.describe()"
   ]
  },
  {
   "cell_type": "markdown",
   "metadata": {},
   "source": [
    "- All numeric columns have almost equal *standard deviations* and *mean values* are very similar. \n",
    "- Mininmum score of all subjects is 0. It is possible to be an outlier but as long as it is not a negative number we can consider it as normal (a student it is possible to take 0 score for some reason)."
   ]
  },
  {
   "cell_type": "code",
   "execution_count": 9,
   "metadata": {},
   "outputs": [],
   "source": [
    "categorical_features = ['gender', 'race/ethnicity', 'parental level of education', 'lunch', 'test preparation course']"
   ]
  },
  {
   "cell_type": "code",
   "execution_count": 10,
   "metadata": {},
   "outputs": [
    {
     "name": "stdout",
     "output_type": "stream",
     "text": [
      "gender :\n",
      "female    518\n",
      "male      482\n",
      "Name: gender, dtype: int64\n",
      "----------------------------\n",
      "race/ethnicity :\n",
      "group C    319\n",
      "group D    262\n",
      "group B    190\n",
      "group E    140\n",
      "group A     89\n",
      "Name: race/ethnicity, dtype: int64\n",
      "----------------------------\n",
      "parental level of education :\n",
      "some college          226\n",
      "associate's degree    222\n",
      "high school           196\n",
      "some high school      179\n",
      "bachelor's degree     118\n",
      "master's degree        59\n",
      "Name: parental level of education, dtype: int64\n",
      "----------------------------\n",
      "lunch :\n",
      "standard        645\n",
      "free/reduced    355\n",
      "Name: lunch, dtype: int64\n",
      "----------------------------\n",
      "test preparation course :\n",
      "none         642\n",
      "completed    358\n",
      "Name: test preparation course, dtype: int64\n",
      "----------------------------\n"
     ]
    }
   ],
   "source": [
    "# Counts on categorical columns\n",
    "for feature in categorical_features:\n",
    "    print(feature,':')\n",
    "    print(students_df[feature].value_counts())\n",
    "    print('----------------------------')"
   ]
  },
  {
   "cell_type": "markdown",
   "metadata": {},
   "source": [
    ">We are going to plot all the categorical columns to see the differences. Counts between our categories differ a lot except for the *gender* column"
   ]
  },
  {
   "cell_type": "code",
   "execution_count": 11,
   "metadata": {},
   "outputs": [
    {
     "data": {
      "image/png": "[encoded data removed]",
      "text/plain": [
       "<Figure size 864x864 with 6 Axes>"
      ]
     },
     "metadata": {
      "needs_background": "light"
     },
     "output_type": "display_data"
    }
   ],
   "source": [
    "fig, axes = plt.subplots(3,2, figsize=(12,12))\n",
    "\n",
    "def get_x_labels(column):\n",
    "    # helper function to get all xlabels for all axes\n",
    "    col_dict = dict(students_df[column].value_counts())\n",
    "    return col_dict.keys()\n",
    "\n",
    "x_labels = [list(get_x_labels(feature)) for feature in categorical_features]\n",
    "\n",
    "def get_y_ticks(column):\n",
    "    # helper function to get all heights for all axes\n",
    "    return students_df[column].value_counts()\n",
    "\n",
    "y_ticks = [list(get_y_ticks(feature)) for feature in categorical_features]\n",
    "\n",
    "for i in range(3):\n",
    "    for j in range(2):\n",
    "        if i==1:\n",
    "            axes[i,j].bar(x_labels[i+j+1], y_ticks[i+j+1])\n",
    "            axes[i,j].set_frame_on(False)\n",
    "            axes[i,j].set_xticklabels(x_labels[i+j+1], rotation=45)\n",
    "            axes[i,j].set_title('{} Counts'.format(categorical_features[i+j+1].capitalize()))\n",
    "            axes[i,j].minorticks_off()\n",
    "        elif i==2:\n",
    "            axes[i,j].bar(x_labels[i+j+1], y_ticks[i+j+1])\n",
    "            axes[i,j].set_frame_on(False)\n",
    "            axes[i,j].set_xticklabels(x_labels[i+j+1], rotation=45)\n",
    "            axes[i,j].set_title('{} Counts'.format(categorical_features[i+j+1].capitalize()))\n",
    "        else:\n",
    "            axes[i,j].bar(x_labels[i+j], y_ticks[i+j])\n",
    "            axes[i,j].set_frame_on(False)\n",
    "            axes[i,j].set_xticklabels(x_labels[i+j], rotation=45)\n",
    "            axes[i,j].set_title('{} Counts'.format(categorical_features[i+j].capitalize()))\n",
    "plt.tight_layout()\n",
    "plt.show()"
   ]
  },
  {
   "cell_type": "markdown",
   "metadata": {},
   "source": [
    "Let me explain the above code:\n",
    "\n",
    "- *fig, axes = plt.subplots(3,2, figsize=(12,12))*:\n",
    "    - creates a figure, you can think of that like a white paper onto which we are going to draw our plots (you can take a look the code below to get a better understanding)\n",
    "    - axes are just the horizontal axis $x$ and the vertical axis $y$\n",
    "    - this line creates a white paper with $3X2$ grid of axes $x$,$y$\n",
    "    - so we can think of axes as objects which we can add, remove, draw anything we want\n",
    "- *axes[i,j].bar(x, y, more params)*:\n",
    "    - creates a bar plot (usually we use barplots to plot categorical variables)\n",
    "- *axes[i,j].set_frame_on(False)*:\n",
    "    - removes the lines of the axes $x$ and $y$ but keeps the ticks (think of that like if you have draw the axes with a pencil you could take an eraser and remove the lines)\n",
    "- *axes[i,j].set_xticklabels(label, rotation=45, more params)*:\n",
    "    - adds ticks and labels on the x-axis rotated by $45^o$\n",
    "- *axes[i,j].set_title('{} Counts'.format(categorical_features[i+j].capitalize()))*:\n",
    "    - adds a title for our plot"
   ]
  },
  {
   "cell_type": "code",
   "execution_count": 12,
   "metadata": {},
   "outputs": [
    {
     "data": {
      "image/png": "[encoded data removed]",
      "text/plain": [
       "<Figure size 432x288 with 1 Axes>"
      ]
     },
     "metadata": {},
     "output_type": "display_data"
    }
   ],
   "source": [
    "#To help you understand better, what we mean by figure and by axes\n",
    "#below I use a very nice way to clarify those.\n",
    "\n",
    "fig_new, ax = plt.subplots()\n",
    "\n",
    "fig_new.set_facecolor('tab:cyan') #our paper has cyan color, our axes in white color"
   ]
  },
  {
   "cell_type": "code",
   "execution_count": 13,
   "metadata": {},
   "outputs": [
    {
     "data": {
      "image/png": "[encoded data removed]",
      "text/plain": [
       "<Figure size 432x288 with 1 Axes>"
      ]
     },
     "execution_count": 13,
     "metadata": {},
     "output_type": "execute_result"
    }
   ],
   "source": [
    "ax.set_facecolor('tab:green') #our axes now has green color\n",
    "fig_new"
   ]
  },
  {
   "cell_type": "markdown",
   "metadata": {},
   "source": [
    "--------"
   ]
  },
  {
   "cell_type": "markdown",
   "metadata": {},
   "source": [
    "#### I would like to highlight the following notes:\n",
    "\n",
    "- Two thirds of our students DIDN'T took the test preparation course\n",
    "- Group A of Race/Ethinicity column has the minimum number of representatives, it is more than 3 times smaller than the Group C\n",
    "- Μost counts of Parental Level of Education has the 'Some College' and the less counts has the 'Master's Degree'.\n",
    "\n",
    "We could split our dataset into smaller to analyze each one category seperately."
   ]
  },
  {
   "cell_type": "code",
   "execution_count": 14,
   "metadata": {},
   "outputs": [],
   "source": [
    "numeric_features = ['math score', 'reading score', 'writing score']"
   ]
  },
  {
   "cell_type": "code",
   "execution_count": 15,
   "metadata": {},
   "outputs": [
    {
     "data": {
      "image/png": "[encoded data removed]",
      "text/plain": [
       "<Figure size 432x288 with 1 Axes>"
      ]
     },
     "metadata": {
      "needs_background": "light"
     },
     "output_type": "display_data"
    },
    {
     "data": {
      "image/png": "[encoded data removed]",
      "text/plain": [
       "<Figure size 432x288 with 1 Axes>"
      ]
     },
     "metadata": {
      "needs_background": "light"
     },
     "output_type": "display_data"
    },
    {
     "data": {
      "image/png": "[encoded data removed]",
      "text/plain": [
       "<Figure size 432x288 with 1 Axes>"
      ]
     },
     "metadata": {
      "needs_background": "light"
     },
     "output_type": "display_data"
    }
   ],
   "source": [
    "# First of all let us take a look on \n",
    "# the distribution of each numeric column\n",
    "\n",
    "for feature in numeric_features:\n",
    "    students_df[feature].plot(kind='hist', bins=20)\n",
    "    plt.title('{} Distribution'.format(feature))\n",
    "    plt.show()"
   ]
  },
  {
   "cell_type": "code",
   "execution_count": 16,
   "metadata": {},
   "outputs": [
    {
     "name": "stdout",
     "output_type": "stream",
     "text": [
      "The minimum score for Maths is: 0\n",
      "The minimum score for Reading is: 17\n",
      "The minimum score for Writing is: 10\n"
     ]
    }
   ],
   "source": [
    "# We print all the minimum values for each numeric feature\n",
    "\n",
    "print('The minimum score for Maths is: {}'.format(students_df['math score'].min()))\n",
    "print('The minimum score for Reading is: {}'.format(students_df['reading score'].min()))\n",
    "print('The minimum score for Writing is: {}'.format(students_df['writing score'].min()))"
   ]
  },
  {
   "cell_type": "markdown",
   "metadata": {},
   "source": [
    "Next step is to visualize the performance of each category of each categorical feature.\n",
    "\n",
    "We will make use of boxplots and groupby each category our dataset because:\n",
    "\n",
    "- We can take the minimum(lower cap) and maximum(upper cap) value,\n",
    "- We can take the median(green line),\n",
    "- We can take quartiles, 25%(bottom of the box), 50%(is the same as median), 75%(top of the box),\n",
    "- outliers (circles)"
   ]
  },
  {
   "cell_type": "code",
   "execution_count": 17,
   "metadata": {},
   "outputs": [
    {
     "data": {
      "image/png": "[encoded data removed]",
      "text/plain": [
       "<Figure size 864x360 with 3 Axes>"
      ]
     },
     "metadata": {
      "needs_background": "light"
     },
     "output_type": "display_data"
    }
   ],
   "source": [
    "students_df.boxplot(column=numeric_features, by='test preparation course', rot=45, figsize=(12,5), layout=(1,3));"
   ]
  },
  {
   "cell_type": "code",
   "execution_count": 18,
   "metadata": {},
   "outputs": [
    {
     "data": {
      "image/png": "[encoded data removed]",
      "text/plain": [
       "<Figure size 864x432 with 3 Axes>"
      ]
     },
     "metadata": {
      "needs_background": "light"
     },
     "output_type": "display_data"
    }
   ],
   "source": [
    "students_df.boxplot(column=numeric_features, by='parental level of education', rot=90, figsize=(12,6), layout=(1,3));"
   ]
  },
  {
   "cell_type": "markdown",
   "metadata": {},
   "source": [
    "Let's start our analysis. I am going to start first with the *Test Preparation Course*. A first note is that: \n",
    "- outliers in any of math/reading/writing course for those who completed the test preparation course(TPC) are very similar to minimum value while for those who didn't completed TPC not.\n",
    "\n",
    "- Moreover, scores for those who completed the TPC has smaller variance, the body of the box is everywhere higher than the others and the whiskers are shorter.\n",
    "\n",
    "In my opinion if a student completed the TPC then has more chances to get a better score! So yes, TPC does affects the scores."
   ]
  },
  {
   "cell_type": "markdown",
   "metadata": {},
   "source": [
    "Another interesting plot is *Parental Level of Education*. \n",
    "- Master's Degree does a bit better than bachelor's Degree\n",
    "- Master's and Bachelor's Degree has long bodies and short whiskers, almost no outliers(only one) and always higher median than the others\n",
    "- Very steady is the level of Associate Degree it has almost the same values on all three courses\n",
    "\n",
    "I believe that Parental's Level of Education affects a student's score. But our samples aren't equally so I think that a better collected dataset could give us more distinct results."
   ]
  },
  {
   "cell_type": "markdown",
   "metadata": {},
   "source": [
    "Summary Statistics for Parental Level of Education and Test Preparation Course\n",
    "--"
   ]
  },
  {
   "cell_type": "code",
   "execution_count": 19,
   "metadata": {},
   "outputs": [],
   "source": [
    "# We are going to split our dataset to smaller,\n",
    "# one for each category, and compare their statistics\n",
    "# with the overall statistics.\n",
    "\n",
    "df_compl = students_df[students_df['test preparation course'] == 'completed']\n",
    "df_notcompl = students_df[students_df['test preparation course'] == 'none']"
   ]
  },
  {
   "cell_type": "code",
   "execution_count": 20,
   "metadata": {},
   "outputs": [
    {
     "name": "stdout",
     "output_type": "stream",
     "text": [
      "math score      -3.606531\n",
      "reading score   -4.724855\n",
      "writing score   -6.364994\n",
      "dtype: float64\n",
      "math score       2.011118\n",
      "reading score    2.634732\n",
      "writing score    3.549327\n",
      "dtype: float64\n"
     ]
    }
   ],
   "source": [
    "# A good way to decide if and how the test preparation course helped,\n",
    "# is to compare the mean values of our two subsets to the entire dataset\n",
    "print(students_df.mean() - df_compl.mean())\n",
    "print(students_df.mean() - df_notcompl.mean())"
   ]
  },
  {
   "cell_type": "markdown",
   "metadata": {},
   "source": [
    "This is very nice! For sure, the results for those who did took the preparation course are much better!"
   ]
  },
  {
   "cell_type": "code",
   "execution_count": 21,
   "metadata": {},
   "outputs": [
    {
     "name": "stdout",
     "output_type": "stream",
     "text": [
      "math score       0.718381\n",
      "reading score    0.961808\n",
      "writing score    1.820322\n",
      "dtype: float64\n",
      "--------------\n",
      "math score      -0.029296\n",
      "reading score    0.136307\n",
      "writing score    0.195996\n",
      "dtype: float64\n"
     ]
    }
   ],
   "source": [
    "print(students_df.std() - df_compl.std())\n",
    "print('--------------')\n",
    "print(students_df.std() - df_notcompl.std())"
   ]
  },
  {
   "cell_type": "markdown",
   "metadata": {},
   "source": [
    "Standard Deviation shows again that our subset that completed TPC, has less variance to their scores.\n",
    "\n",
    ">As plots shown above if a student completes the TPC has much more chances to get high score to exams."
   ]
  },
  {
   "cell_type": "code",
   "execution_count": 22,
   "metadata": {},
   "outputs": [],
   "source": [
    "df_BD = students_df[students_df['parental level of education'] == \"bachelor's degree\"]\n",
    "df_MD = students_df[students_df['parental level of education'] == \"master's degree\"]\n",
    "df_sc = students_df[students_df['parental level of education'] == 'some college']\n",
    "df_AD = students_df[students_df['parental level of education'] == \"associate's degree\"]\n",
    "df_hs = students_df[students_df['parental level of education'] == 'high school']\n",
    "df_shs = students_df[students_df['parental level of education'] == 'some high school']"
   ]
  },
  {
   "cell_type": "code",
   "execution_count": 23,
   "metadata": {},
   "outputs": [
    {
     "name": "stdout",
     "output_type": "stream",
     "text": [
      "math score      -3.300831\n",
      "reading score   -3.831000\n",
      "writing score   -5.327356\n",
      "dtype: float64\n",
      "--------------\n",
      "math score      -3.656763\n",
      "reading score   -6.203881\n",
      "writing score   -7.623966\n",
      "dtype: float64\n",
      "--------------\n",
      "math score      -1.039319\n",
      "reading score   -0.291177\n",
      "writing score   -0.786708\n",
      "dtype: float64\n",
      "--------------\n",
      "math score       2.591793\n",
      "reading score    2.230453\n",
      "writing score    3.165732\n",
      "dtype: float64\n",
      "--------------\n",
      "math score       3.951245\n",
      "reading score    4.464918\n",
      "writing score    5.605020\n",
      "dtype: float64\n",
      "--------------\n",
      "math score      -1.793883\n",
      "reading score   -1.758928\n",
      "writing score   -1.842396\n",
      "dtype: float64\n"
     ]
    }
   ],
   "source": [
    "print(students_df.mean() - df_BD.mean())\n",
    "print('--------------')\n",
    "print(students_df.mean() - df_MD.mean())\n",
    "print('--------------')\n",
    "print(students_df.mean() - df_sc.mean())\n",
    "print('--------------')\n",
    "print(students_df.mean() - df_shs.mean())\n",
    "print('--------------')\n",
    "print(students_df.mean() - df_hs.mean())\n",
    "print('--------------')\n",
    "print(students_df.mean() - df_AD.mean())"
   ]
  },
  {
   "cell_type": "code",
   "execution_count": 24,
   "metadata": {},
   "outputs": [
    {
     "name": "stdout",
     "output_type": "stream",
     "text": [
      "math score       0.219291\n",
      "reading score    0.314942\n",
      "writing score    0.467395\n",
      "dtype: float64\n",
      "--------------\n",
      "math score       0.009165\n",
      "reading score    0.825029\n",
      "writing score    1.464946\n",
      "dtype: float64\n",
      "--------------\n",
      "math score       0.850183\n",
      "reading score    0.543143\n",
      "writing score    0.183326\n",
      "dtype: float64\n",
      "--------------\n",
      "math score      -0.764909\n",
      "reading score   -0.879103\n",
      "writing score   -0.540540\n",
      "dtype: float64\n",
      "--------------\n",
      "math score       0.623430\n",
      "reading score    0.468061\n",
      "writing score    1.109750\n",
      "dtype: float64\n",
      "--------------\n",
      "math score       0.050987\n",
      "reading score    0.731244\n",
      "writing score    0.884535\n",
      "dtype: float64\n"
     ]
    }
   ],
   "source": [
    "print(students_df.std() - df_BD.std())\n",
    "print('--------------')\n",
    "print(students_df.std() - df_MD.std())\n",
    "print('--------------')\n",
    "print(students_df.std() - df_sc.std())\n",
    "print('--------------')\n",
    "print(students_df.std() - df_shs.std())\n",
    "print('--------------')\n",
    "print(students_df.std() - df_hs.std())\n",
    "print('--------------')\n",
    "print(students_df.std() - df_AD.std())"
   ]
  },
  {
   "cell_type": "markdown",
   "metadata": {},
   "source": [
    "Great notes!!! As we expected, Master's/ Bachelor's/ Associate's Degree did better than the entire dataset and a bit better also did Some College. \n",
    "\n",
    ">In conclusion I think that also Parental Level of Education affects a student's score"
   ]
  },
  {
   "cell_type": "markdown",
   "metadata": {},
   "source": [
    "Linear Regression - Score Prediction\n",
    "--"
   ]
  },
  {
   "cell_type": "code",
   "execution_count": 25,
   "metadata": {},
   "outputs": [
    {
     "data": {
      "text/html": [
       "<div>\n",
       "<style scoped>\n",
       "    .dataframe tbody tr th:only-of-type {\n",
       "        vertical-align: middle;\n",
       "    }\n",
       "\n",
       "    .dataframe tbody tr th {\n",
       "        vertical-align: top;\n",
       "    }\n",
       "\n",
       "    .dataframe thead th {\n",
       "        text-align: right;\n",
       "    }\n",
       "</style>\n",
       "<table border=\"1\" class=\"dataframe\">\n",
       "  <thead>\n",
       "    <tr style=\"text-align: right;\">\n",
       "      <th></th>\n",
       "      <th>math score</th>\n",
       "      <th>reading score</th>\n",
       "      <th>writing score</th>\n",
       "      <th>gender_male</th>\n",
       "      <th>race/ethnicity_group B</th>\n",
       "      <th>race/ethnicity_group C</th>\n",
       "      <th>race/ethnicity_group D</th>\n",
       "      <th>race/ethnicity_group E</th>\n",
       "      <th>parental level of education_bachelor's degree</th>\n",
       "      <th>parental level of education_high school</th>\n",
       "      <th>parental level of education_master's degree</th>\n",
       "      <th>parental level of education_some college</th>\n",
       "      <th>parental level of education_some high school</th>\n",
       "      <th>lunch_standard</th>\n",
       "      <th>test preparation course_none</th>\n",
       "    </tr>\n",
       "  </thead>\n",
       "  <tbody>\n",
       "    <tr>\n",
       "      <th>0</th>\n",
       "      <td>72</td>\n",
       "      <td>72</td>\n",
       "      <td>74</td>\n",
       "      <td>0</td>\n",
       "      <td>1</td>\n",
       "      <td>0</td>\n",
       "      <td>0</td>\n",
       "      <td>0</td>\n",
       "      <td>1</td>\n",
       "      <td>0</td>\n",
       "      <td>0</td>\n",
       "      <td>0</td>\n",
       "      <td>0</td>\n",
       "      <td>1</td>\n",
       "      <td>1</td>\n",
       "    </tr>\n",
       "    <tr>\n",
       "      <th>1</th>\n",
       "      <td>69</td>\n",
       "      <td>90</td>\n",
       "      <td>88</td>\n",
       "      <td>0</td>\n",
       "      <td>0</td>\n",
       "      <td>1</td>\n",
       "      <td>0</td>\n",
       "      <td>0</td>\n",
       "      <td>0</td>\n",
       "      <td>0</td>\n",
       "      <td>0</td>\n",
       "      <td>1</td>\n",
       "      <td>0</td>\n",
       "      <td>1</td>\n",
       "      <td>0</td>\n",
       "    </tr>\n",
       "    <tr>\n",
       "      <th>2</th>\n",
       "      <td>90</td>\n",
       "      <td>95</td>\n",
       "      <td>93</td>\n",
       "      <td>0</td>\n",
       "      <td>1</td>\n",
       "      <td>0</td>\n",
       "      <td>0</td>\n",
       "      <td>0</td>\n",
       "      <td>0</td>\n",
       "      <td>0</td>\n",
       "      <td>1</td>\n",
       "      <td>0</td>\n",
       "      <td>0</td>\n",
       "      <td>1</td>\n",
       "      <td>1</td>\n",
       "    </tr>\n",
       "    <tr>\n",
       "      <th>3</th>\n",
       "      <td>47</td>\n",
       "      <td>57</td>\n",
       "      <td>44</td>\n",
       "      <td>1</td>\n",
       "      <td>0</td>\n",
       "      <td>0</td>\n",
       "      <td>0</td>\n",
       "      <td>0</td>\n",
       "      <td>0</td>\n",
       "      <td>0</td>\n",
       "      <td>0</td>\n",
       "      <td>0</td>\n",
       "      <td>0</td>\n",
       "      <td>0</td>\n",
       "      <td>1</td>\n",
       "    </tr>\n",
       "    <tr>\n",
       "      <th>4</th>\n",
       "      <td>76</td>\n",
       "      <td>78</td>\n",
       "      <td>75</td>\n",
       "      <td>1</td>\n",
       "      <td>0</td>\n",
       "      <td>1</td>\n",
       "      <td>0</td>\n",
       "      <td>0</td>\n",
       "      <td>0</td>\n",
       "      <td>0</td>\n",
       "      <td>0</td>\n",
       "      <td>1</td>\n",
       "      <td>0</td>\n",
       "      <td>1</td>\n",
       "      <td>1</td>\n",
       "    </tr>\n",
       "  </tbody>\n",
       "</table>\n",
       "</div>"
      ],
      "text/plain": [
       "   math score  reading score  writing score  gender_male  \\\n",
       "0          72             72             74            0   \n",
       "1          69             90             88            0   \n",
       "2          90             95             93            0   \n",
       "3          47             57             44            1   \n",
       "4          76             78             75            1   \n",
       "\n",
       "   race/ethnicity_group B  race/ethnicity_group C  race/ethnicity_group D  \\\n",
       "0                       1                       0                       0   \n",
       "1                       0                       1                       0   \n",
       "2                       1                       0                       0   \n",
       "3                       0                       0                       0   \n",
       "4                       0                       1                       0   \n",
       "\n",
       "   race/ethnicity_group E  parental level of education_bachelor's degree  \\\n",
       "0                       0                                              1   \n",
       "1                       0                                              0   \n",
       "2                       0                                              0   \n",
       "3                       0                                              0   \n",
       "4                       0                                              0   \n",
       "\n",
       "   parental level of education_high school  \\\n",
       "0                                        0   \n",
       "1                                        0   \n",
       "2                                        0   \n",
       "3                                        0   \n",
       "4                                        0   \n",
       "\n",
       "   parental level of education_master's degree  \\\n",
       "0                                            0   \n",
       "1                                            0   \n",
       "2                                            1   \n",
       "3                                            0   \n",
       "4                                            0   \n",
       "\n",
       "   parental level of education_some college  \\\n",
       "0                                         0   \n",
       "1                                         1   \n",
       "2                                         0   \n",
       "3                                         0   \n",
       "4                                         1   \n",
       "\n",
       "   parental level of education_some high school  lunch_standard  \\\n",
       "0                                             0               1   \n",
       "1                                             0               1   \n",
       "2                                             0               1   \n",
       "3                                             0               0   \n",
       "4                                             0               1   \n",
       "\n",
       "   test preparation course_none  \n",
       "0                             1  \n",
       "1                             0  \n",
       "2                             1  \n",
       "3                             1  \n",
       "4                             1  "
      ]
     },
     "execution_count": 25,
     "metadata": {},
     "output_type": "execute_result"
    }
   ],
   "source": [
    "students_dummies = pd.get_dummies(students_df, drop_first=True, columns=categorical_features)\n",
    "students_dummies.head()"
   ]
  },
  {
   "cell_type": "code",
   "execution_count": 40,
   "metadata": {},
   "outputs": [
    {
     "data": {
      "image/png": "[encoded data removed]",
      "text/plain": [
       "<Figure size 864x576 with 2 Axes>"
      ]
     },
     "metadata": {
      "needs_background": "light"
     },
     "output_type": "display_data"
    }
   ],
   "source": [
    "corr = students_dummies.corr()\n",
    "mask = np.zeros_like(corr)\n",
    "mask[np.triu_indices_from(mask)] = True\n",
    "f, ax = plt.subplots(figsize=(12, 8))\n",
    "sns.heatmap(data=corr, annot=True, fmt='.2f', mask=mask);"
   ]
  },
  {
   "cell_type": "markdown",
   "metadata": {},
   "source": [
    "Heatmap also highlights the strong correlation that reading and writing have with the math score. Secondary feature that shows an interesting amount of correlation is the lunch. "
   ]
  },
  {
   "cell_type": "markdown",
   "metadata": {},
   "source": [
    "Linear Regression Model\n",
    "--"
   ]
  },
  {
   "cell_type": "markdown",
   "metadata": {},
   "source": [
    "> This model will keep two out of three scores and we are going to predict the third. *Reading & Writing Scores* are kept, *math score* is the target variable."
   ]
  },
  {
   "cell_type": "code",
   "execution_count": 26,
   "metadata": {},
   "outputs": [],
   "source": [
    "features = ['reading score', 'writing score', 'gender_male',\n",
    "       'race/ethnicity_group B', 'race/ethnicity_group C',\n",
    "       'race/ethnicity_group D', 'race/ethnicity_group E',\n",
    "       'parental level of education_bachelor\\'s degree',\n",
    "       'parental level of education_high school',\n",
    "       'parental level of education_master\\'s degree',\n",
    "       'parental level of education_some college',\n",
    "       'parental level of education_some high school', 'lunch_standard',\n",
    "       'test preparation course_none']"
   ]
  },
  {
   "cell_type": "code",
   "execution_count": 27,
   "metadata": {},
   "outputs": [],
   "source": [
    "target = ['math score']"
   ]
  },
  {
   "cell_type": "code",
   "execution_count": 28,
   "metadata": {},
   "outputs": [],
   "source": [
    "class ColumnLinearRegression(BaseEstimator, RegressorMixin):\n",
    "     # columns are a \"Hyperparameter\" for our estimator, \n",
    "     # so we have to pass it in, in the __inti__ method,\n",
    "     # we need to keep track of the columns, so we have to save them\n",
    "        \n",
    "    def __init__(self, columns):\n",
    "        if not isinstance(columns, list):\n",
    "            raise ValueError(\"columns must be a list\")\n",
    "        self.columns= columns\n",
    "        self.lr = LinearRegression()\n",
    "        \n",
    "    def _select(self, X):\n",
    "        return X[self.columns]\n",
    "        \n",
    "    def fit(self, X, y):\n",
    "        self.lr.fit(self._select(X), y)\n",
    "        return self\n",
    "    \n",
    "    def predict(self, X):\n",
    "        return self.lr.predict(self._select(X))"
   ]
  },
  {
   "cell_type": "code",
   "execution_count": 29,
   "metadata": {},
   "outputs": [],
   "source": [
    "def r2_adj(y_t, X_t, feat, pred):\n",
    "    r2 = metrics.r2_score(y_t, pred)\n",
    "    n = len(X_t)\n",
    "    p = len(feat)\n",
    "    return 1-((1-r2)*(n-1)/(n-p-1))"
   ]
  },
  {
   "cell_type": "markdown",
   "metadata": {},
   "source": [
    "## Regression Evaluation Metrics\n",
    "\n",
    "\n",
    "Here are three common evaluation metrics for regression problems:\n",
    "\n",
    "**Mean Absolute Error** (MAE) is the mean of the absolute value of the errors:\n",
    "\n",
    "$$\\frac 1n\\sum_{i=1}^n|y_i-\\hat{y}_i|$$\n",
    "\n",
    "**Mean Squared Error** (MSE) is the mean of the squared errors:\n",
    "\n",
    "$$\\frac 1n\\sum_{i=1}^n(y_i-\\hat{y}_i)^2$$\n",
    "\n",
    "**Root Mean Squared Error** (RMSE) is the square root of the mean of the squared errors:\n",
    "\n",
    "$$\\sqrt{\\frac 1n\\sum_{i=1}^n(y_i-\\hat{y}_i)^2}$$\n",
    "\n",
    "Comparing these metrics:\n",
    "\n",
    "- **MAE** is the easiest to understand, because it's the average error.\n",
    "- **MSE** is more popular than MAE, because MSE \"punishes\" larger errors, which tends to be useful in the real world.\n",
    "- **RMSE** is even more popular than MSE, because RMSE is interpretable in the \"y\" units.\n",
    "\n",
    "All of these are **loss functions**, because we want to minimize them.\n",
    "\n",
    "Another common metric for regression is $R^2$, also known as the **coefficient of determination**. The $R^2$ quantifies how our model's MSE compares to a naive model in which we always predict the mean $y$ value, $\\bar{y}$.\n",
    "\n",
    "$$ 1 - \\frac{\\sum_i \\left[f(X_i) - y_i\\right]^2}{\\sum_i\\left(\\bar{y} - y_i\\right)^2} $$\n",
    "\n",
    "If our $R^2 < 0$ we know our model is very bad, because the MSE is larger than than the MAE of the mean model.\n",
    "\n",
    "One important consideration when choosing a metric is how they scale with the data."
   ]
  },
  {
   "cell_type": "code",
   "execution_count": 30,
   "metadata": {},
   "outputs": [
    {
     "name": "stdout",
     "output_type": "stream",
     "text": [
      "['reading score', 'writing score', 'gender_male', 'race/ethnicity_group C', 'race/ethnicity_group E', \"parental level of education_bachelor's degree\", \"parental level of education_master's degree\", 'lunch_standard', 'test preparation course_none']\n"
     ]
    }
   ],
   "source": [
    "feat_list = []\n",
    "new_dict = {}\n",
    "i=0\n",
    "r2_adj_max = 0\n",
    "best_model = None\n",
    "for feature in features:\n",
    "    feat_list.append(feature)\n",
    "    clr = ColumnLinearRegression(feat_list)\n",
    "    X_train, X_test, y_train, y_test = train_test_split(students_dummies[feat_list], students_dummies[target], \n",
    "                                                    test_size=0.3, random_state=42)\n",
    "    clr.fit(X_train, y_train)\n",
    "    predictions = clr.predict(X_test)\n",
    "    variables = len(clr.columns)\n",
    "    mse = metrics.mean_squared_error(y_test, predictions)\n",
    "    r2 = metrics.r2_score(y_test, predictions)\n",
    "    r2_adjusted = r2_adj(y_test, X_test, clr.columns, predictions)\n",
    "    if r2_adjusted > r2_adj_max:\n",
    "        best_model = clr\n",
    "        r2_adj_max = r2_adjusted\n",
    "        new_dict[i] = {'var': variables, \n",
    "                       'MSE': mse,\n",
    "                       'R^2': r2, \n",
    "                       'R^2_adjusted': r2_adj_max}\n",
    "    else:\n",
    "        feat_list.remove(feat_list[-1])\n",
    "    i+=1\n",
    "print(best_model.columns)    "
   ]
  },
  {
   "cell_type": "code",
   "execution_count": 31,
   "metadata": {},
   "outputs": [
    {
     "data": {
      "text/html": [
       "<div>\n",
       "<style scoped>\n",
       "    .dataframe tbody tr th:only-of-type {\n",
       "        vertical-align: middle;\n",
       "    }\n",
       "\n",
       "    .dataframe tbody tr th {\n",
       "        vertical-align: top;\n",
       "    }\n",
       "\n",
       "    .dataframe thead th {\n",
       "        text-align: right;\n",
       "    }\n",
       "</style>\n",
       "<table border=\"1\" class=\"dataframe\">\n",
       "  <thead>\n",
       "    <tr style=\"text-align: right;\">\n",
       "      <th></th>\n",
       "      <th>0</th>\n",
       "      <th>1</th>\n",
       "      <th>2</th>\n",
       "      <th>4</th>\n",
       "      <th>6</th>\n",
       "      <th>7</th>\n",
       "      <th>9</th>\n",
       "      <th>12</th>\n",
       "      <th>13</th>\n",
       "    </tr>\n",
       "  </thead>\n",
       "  <tbody>\n",
       "    <tr>\n",
       "      <th>MSE</th>\n",
       "      <td>82.630205</td>\n",
       "      <td>81.655522</td>\n",
       "      <td>38.727046</td>\n",
       "      <td>38.380858</td>\n",
       "      <td>36.434819</td>\n",
       "      <td>36.229617</td>\n",
       "      <td>35.886807</td>\n",
       "      <td>33.723228</td>\n",
       "      <td>30.324038</td>\n",
       "    </tr>\n",
       "    <tr>\n",
       "      <th>R^2</th>\n",
       "      <td>0.667899</td>\n",
       "      <td>0.671817</td>\n",
       "      <td>0.844351</td>\n",
       "      <td>0.845743</td>\n",
       "      <td>0.853564</td>\n",
       "      <td>0.854389</td>\n",
       "      <td>0.855767</td>\n",
       "      <td>0.864462</td>\n",
       "      <td>0.878124</td>\n",
       "    </tr>\n",
       "    <tr>\n",
       "      <th>R^2_adjusted</th>\n",
       "      <td>0.666785</td>\n",
       "      <td>0.669607</td>\n",
       "      <td>0.842774</td>\n",
       "      <td>0.843651</td>\n",
       "      <td>0.851074</td>\n",
       "      <td>0.851407</td>\n",
       "      <td>0.852309</td>\n",
       "      <td>0.860736</td>\n",
       "      <td>0.874342</td>\n",
       "    </tr>\n",
       "    <tr>\n",
       "      <th>var</th>\n",
       "      <td>1.000000</td>\n",
       "      <td>2.000000</td>\n",
       "      <td>3.000000</td>\n",
       "      <td>4.000000</td>\n",
       "      <td>5.000000</td>\n",
       "      <td>6.000000</td>\n",
       "      <td>7.000000</td>\n",
       "      <td>8.000000</td>\n",
       "      <td>9.000000</td>\n",
       "    </tr>\n",
       "  </tbody>\n",
       "</table>\n",
       "</div>"
      ],
      "text/plain": [
       "                     0          1          2          4          6   \\\n",
       "MSE           82.630205  81.655522  38.727046  38.380858  36.434819   \n",
       "R^2            0.667899   0.671817   0.844351   0.845743   0.853564   \n",
       "R^2_adjusted   0.666785   0.669607   0.842774   0.843651   0.851074   \n",
       "var            1.000000   2.000000   3.000000   4.000000   5.000000   \n",
       "\n",
       "                     7          9          12         13  \n",
       "MSE           36.229617  35.886807  33.723228  30.324038  \n",
       "R^2            0.854389   0.855767   0.864462   0.878124  \n",
       "R^2_adjusted   0.851407   0.852309   0.860736   0.874342  \n",
       "var            6.000000   7.000000   8.000000   9.000000  "
      ]
     },
     "execution_count": 31,
     "metadata": {},
     "output_type": "execute_result"
    }
   ],
   "source": [
    "df = pd.DataFrame(new_dict)\n",
    "df.head()"
   ]
  },
  {
   "cell_type": "code",
   "execution_count": 35,
   "metadata": {},
   "outputs": [
    {
     "name": "stderr",
     "output_type": "stream",
     "text": [
      "No handles with labels found to put in legend.\n"
     ]
    },
    {
     "data": {
      "image/png": "[encoded data removed]",
      "text/plain": [
       "<Figure size 432x288 with 1 Axes>"
      ]
     },
     "metadata": {
      "needs_background": "light"
     },
     "output_type": "display_data"
    }
   ],
   "source": [
    "# plotting our predictions over the real y-values are a good way, \n",
    "# beyond the statistical, to check our model performance\n",
    "\n",
    "plt.plot(y_test, predictions, '.')\n",
    "plt.xlabel('Expected Score for math test')\n",
    "plt.ylabel('Predicted Score for math test')\n",
    "plt.title('Expected Score vs Predicted Score')\n",
    "plt.plot(y_test,y_test,'r-')\n",
    "plt.legend()\n",
    "plt.show()"
   ]
  },
  {
   "cell_type": "code",
   "execution_count": 33,
   "metadata": {},
   "outputs": [
    {
     "name": "stdout",
     "output_type": "stream",
     "text": [
      "MAE: 4.373118578221514\n",
      "MSE: 30.32403830306437\n",
      "RMSE: 5.506726641396354\n",
      "R^2: 0.8781240204609078\n",
      "R^2_adjusted: 0.8721371302379348\n"
     ]
    }
   ],
   "source": [
    "print('MAE:', metrics.mean_absolute_error(y_test, predictions))\n",
    "print('MSE:', metrics.mean_squared_error(y_test, predictions))\n",
    "print('RMSE:', np.sqrt(metrics.mean_squared_error(y_test, predictions)))\n",
    "print('R^2:', metrics.r2_score(y_test, predictions))\n",
    "print('R^2_adjusted:', r2_adj(y_test, X_test, features, predictions))"
   ]
  },
  {
   "cell_type": "code",
   "execution_count": 44,
   "metadata": {},
   "outputs": [
    {
     "name": "stdout",
     "output_type": "stream",
     "text": [
      "R^2: 0.8781801978922374\n",
      "R^2_adjusted: 0.8748311998961478\n"
     ]
    }
   ],
   "source": [
    "clr = ColumnLinearRegression(['reading score', 'writing score', 'gender_male', \n",
    "                              'race/ethnicity_group E', \"parental level of education_bachelor's degree\", \n",
    "                              \"parental level of education_master's degree\", 'lunch_standard', 'test preparation course_none'])\n",
    "\n",
    "X_train, X_test, y_train, y_test = train_test_split(students_dummies[clr.columns], students_dummies[target], \n",
    "                                                    test_size=0.3, random_state=42)\n",
    "\n",
    "clr.fit(X_train, y_train)\n",
    "predictions = clr.predict(X_test)\n",
    "variables = len(clr.columns)\n",
    "mse = metrics.mean_squared_error(y_test, predictions)\n",
    "r2 = metrics.r2_score(y_test, predictions)\n",
    "r2_adjusted = r2_adj(y_test, X_test, clr.columns, predictions)\n",
    "\n",
    "print('R^2:', r2)\n",
    "print('R^2_adjusted:', r2_adjusted)"
   ]
  },
  {
   "cell_type": "markdown",
   "metadata": {},
   "source": [
    "Conclusions\n",
    "====\n",
    "\n",
    "- Our model did good enough with values that hadn't seen before. \n",
    "- The best model came with 13 feature as expected the more feature the better the performance. Notice that even with the dummies variable we had a good portion of features and rows.\n",
    "- It is possible that **R<sup>2</sup>** always increase as long as we increase the number of features, on the other hand **R<sup>2</sup>adjusted** wont. That's why it is better to take a look on **R<sup>2</sup>adjusted** rather than **R<sup>2</sup>**."
   ]
  },
  {
   "cell_type": "code",
   "execution_count": null,
   "metadata": {},
   "outputs": [],
   "source": []
  }
 ],
 "metadata": {
  "kernelspec": {
   "display_name": "Python 3",
   "language": "python",
   "name": "python3"
  },
  "language_info": {
   "codemirror_mode": {
    "name": "ipython",
    "version": 3
   },
   "file_extension": ".py",
   "mimetype": "text/x-python",
   "name": "python",
   "nbconvert_exporter": "python",
   "pygments_lexer": "ipython3",
   "version": "3.7.3"
  }
 },
 "nbformat": 4,
 "nbformat_minor": 2
}
